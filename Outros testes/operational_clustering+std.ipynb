{
 "cells": [
  {
   "cell_type": "code",
   "execution_count": 1,
   "metadata": {},
   "outputs": [],
   "source": [
    "%matplotlib inline\n",
    "import pandas as pd\n",
    "import numpy as np\n",
    "import matplotlib.pyplot as plt\n",
    "import seaborn as sns; sns.set()\n",
    "import pickle\n",
    "\n",
    "import matplotlib.pyplot as plt \n",
    "import seaborn as sns\n",
    "import matplotlib.ticker as tick\n",
    "from matplotlib.colors import LinearSegmentedColormap\n",
    "import matplotlib as mpl\n",
    "\n",
    "from sklearn.linear_model import LinearRegression\n",
    "from sklearn.metrics import mean_squared_error, r2_score\n",
    "from sklearn.model_selection import cross_val_score\n",
    "from sklearn.model_selection import RepeatedKFold\n",
    "from sklearn.model_selection import RandomizedSearchCV\n",
    "\n",
    "import xgboost"
   ]
  },
  {
   "cell_type": "markdown",
   "metadata": {},
   "source": [
    "Let's dig in by loading the data and starting our Exploratory Data Analysis (EDA) by inspecting the first few rows, to get a feeling for what the data looks like"
   ]
  },
  {
   "cell_type": "code",
   "execution_count": 2,
   "metadata": {
    "scrolled": true
   },
   "outputs": [
    {
     "data": {
      "text/html": [
       "<div>\n",
       "<style scoped>\n",
       "    .dataframe tbody tr th:only-of-type {\n",
       "        vertical-align: middle;\n",
       "    }\n",
       "\n",
       "    .dataframe tbody tr th {\n",
       "        vertical-align: top;\n",
       "    }\n",
       "\n",
       "    .dataframe thead th {\n",
       "        text-align: right;\n",
       "    }\n",
       "</style>\n",
       "<table border=\"1\" class=\"dataframe\">\n",
       "  <thead>\n",
       "    <tr style=\"text-align: right;\">\n",
       "      <th></th>\n",
       "      <th>unit_nr</th>\n",
       "      <th>time_cycles</th>\n",
       "      <th>setting_1</th>\n",
       "      <th>setting_2</th>\n",
       "      <th>setting_3</th>\n",
       "      <th>s_1</th>\n",
       "      <th>s_2</th>\n",
       "      <th>s_3</th>\n",
       "      <th>s_4</th>\n",
       "      <th>s_5</th>\n",
       "      <th>...</th>\n",
       "      <th>s_12</th>\n",
       "      <th>s_13</th>\n",
       "      <th>s_14</th>\n",
       "      <th>s_15</th>\n",
       "      <th>s_16</th>\n",
       "      <th>s_17</th>\n",
       "      <th>s_18</th>\n",
       "      <th>s_19</th>\n",
       "      <th>s_20</th>\n",
       "      <th>s_21</th>\n",
       "    </tr>\n",
       "  </thead>\n",
       "  <tbody>\n",
       "    <tr>\n",
       "      <th>0</th>\n",
       "      <td>1</td>\n",
       "      <td>1</td>\n",
       "      <td>10.0047</td>\n",
       "      <td>0.2501</td>\n",
       "      <td>20.0</td>\n",
       "      <td>489.05</td>\n",
       "      <td>604.13</td>\n",
       "      <td>1499.45</td>\n",
       "      <td>1309.95</td>\n",
       "      <td>10.52</td>\n",
       "      <td>...</td>\n",
       "      <td>372.15</td>\n",
       "      <td>2388.13</td>\n",
       "      <td>8120.83</td>\n",
       "      <td>8.6216</td>\n",
       "      <td>0.03</td>\n",
       "      <td>368</td>\n",
       "      <td>2319</td>\n",
       "      <td>100.0</td>\n",
       "      <td>28.58</td>\n",
       "      <td>17.1735</td>\n",
       "    </tr>\n",
       "    <tr>\n",
       "      <th>1</th>\n",
       "      <td>1</td>\n",
       "      <td>2</td>\n",
       "      <td>0.0015</td>\n",
       "      <td>0.0003</td>\n",
       "      <td>100.0</td>\n",
       "      <td>518.67</td>\n",
       "      <td>642.13</td>\n",
       "      <td>1584.55</td>\n",
       "      <td>1403.96</td>\n",
       "      <td>14.62</td>\n",
       "      <td>...</td>\n",
       "      <td>521.81</td>\n",
       "      <td>2388.15</td>\n",
       "      <td>8132.87</td>\n",
       "      <td>8.3907</td>\n",
       "      <td>0.03</td>\n",
       "      <td>391</td>\n",
       "      <td>2388</td>\n",
       "      <td>100.0</td>\n",
       "      <td>38.99</td>\n",
       "      <td>23.3619</td>\n",
       "    </tr>\n",
       "    <tr>\n",
       "      <th>2</th>\n",
       "      <td>1</td>\n",
       "      <td>3</td>\n",
       "      <td>34.9986</td>\n",
       "      <td>0.8401</td>\n",
       "      <td>60.0</td>\n",
       "      <td>449.44</td>\n",
       "      <td>555.42</td>\n",
       "      <td>1368.17</td>\n",
       "      <td>1122.49</td>\n",
       "      <td>5.48</td>\n",
       "      <td>...</td>\n",
       "      <td>183.26</td>\n",
       "      <td>2387.95</td>\n",
       "      <td>8063.84</td>\n",
       "      <td>9.3557</td>\n",
       "      <td>0.02</td>\n",
       "      <td>334</td>\n",
       "      <td>2223</td>\n",
       "      <td>100.0</td>\n",
       "      <td>14.83</td>\n",
       "      <td>8.8555</td>\n",
       "    </tr>\n",
       "    <tr>\n",
       "      <th>3</th>\n",
       "      <td>1</td>\n",
       "      <td>4</td>\n",
       "      <td>20.0031</td>\n",
       "      <td>0.7005</td>\n",
       "      <td>0.0</td>\n",
       "      <td>491.19</td>\n",
       "      <td>607.03</td>\n",
       "      <td>1488.44</td>\n",
       "      <td>1249.18</td>\n",
       "      <td>9.35</td>\n",
       "      <td>...</td>\n",
       "      <td>314.84</td>\n",
       "      <td>2388.07</td>\n",
       "      <td>8052.30</td>\n",
       "      <td>9.2231</td>\n",
       "      <td>0.02</td>\n",
       "      <td>364</td>\n",
       "      <td>2324</td>\n",
       "      <td>100.0</td>\n",
       "      <td>24.42</td>\n",
       "      <td>14.7832</td>\n",
       "    </tr>\n",
       "    <tr>\n",
       "      <th>4</th>\n",
       "      <td>1</td>\n",
       "      <td>5</td>\n",
       "      <td>42.0041</td>\n",
       "      <td>0.8405</td>\n",
       "      <td>40.0</td>\n",
       "      <td>445.00</td>\n",
       "      <td>549.52</td>\n",
       "      <td>1354.48</td>\n",
       "      <td>1124.32</td>\n",
       "      <td>3.91</td>\n",
       "      <td>...</td>\n",
       "      <td>130.44</td>\n",
       "      <td>2387.89</td>\n",
       "      <td>8083.67</td>\n",
       "      <td>9.2986</td>\n",
       "      <td>0.02</td>\n",
       "      <td>330</td>\n",
       "      <td>2212</td>\n",
       "      <td>100.0</td>\n",
       "      <td>10.99</td>\n",
       "      <td>6.4025</td>\n",
       "    </tr>\n",
       "  </tbody>\n",
       "</table>\n",
       "<p>5 rows × 26 columns</p>\n",
       "</div>"
      ],
      "text/plain": [
       "   unit_nr  time_cycles  setting_1  setting_2  setting_3     s_1     s_2  \\\n",
       "0        1            1    10.0047     0.2501       20.0  489.05  604.13   \n",
       "1        1            2     0.0015     0.0003      100.0  518.67  642.13   \n",
       "2        1            3    34.9986     0.8401       60.0  449.44  555.42   \n",
       "3        1            4    20.0031     0.7005        0.0  491.19  607.03   \n",
       "4        1            5    42.0041     0.8405       40.0  445.00  549.52   \n",
       "\n",
       "       s_3      s_4    s_5  ...    s_12     s_13     s_14    s_15  s_16  s_17  \\\n",
       "0  1499.45  1309.95  10.52  ...  372.15  2388.13  8120.83  8.6216  0.03   368   \n",
       "1  1584.55  1403.96  14.62  ...  521.81  2388.15  8132.87  8.3907  0.03   391   \n",
       "2  1368.17  1122.49   5.48  ...  183.26  2387.95  8063.84  9.3557  0.02   334   \n",
       "3  1488.44  1249.18   9.35  ...  314.84  2388.07  8052.30  9.2231  0.02   364   \n",
       "4  1354.48  1124.32   3.91  ...  130.44  2387.89  8083.67  9.2986  0.02   330   \n",
       "\n",
       "   s_18   s_19   s_20     s_21  \n",
       "0  2319  100.0  28.58  17.1735  \n",
       "1  2388  100.0  38.99  23.3619  \n",
       "2  2223  100.0  14.83   8.8555  \n",
       "3  2324  100.0  24.42  14.7832  \n",
       "4  2212  100.0  10.99   6.4025  \n",
       "\n",
       "[5 rows x 26 columns]"
      ]
     },
     "execution_count": 2,
     "metadata": {},
     "output_type": "execute_result"
    }
   ],
   "source": [
    "# define filepath to read data\n",
    "dir_path = './Challenge_Data/'\n",
    "\n",
    "# define column names for easy indexing\n",
    "index_names = ['unit_nr', 'time_cycles']\n",
    "setting_names = ['setting_1', 'setting_2', 'setting_3']\n",
    "sensor_names = ['s_{}'.format(i) for i in range(1,22)] \n",
    "col_names = index_names + setting_names + sensor_names\n",
    "\n",
    "# read data\n",
    "train = pd.read_csv((dir_path+'train.txt'), sep='\\s+', header=None, names=col_names)\n",
    "test = pd.read_csv((dir_path+'test.txt'), sep='\\s+', header=None, names=col_names)\n",
    "\n",
    "train.head()"
   ]
  },
  {
   "cell_type": "code",
   "execution_count": 3,
   "metadata": {},
   "outputs": [],
   "source": [
    "rul_limit = 922337203\n",
    "df = train\n",
    "grouped_by_unit = df.groupby(by=\"unit_nr\")\n",
    "max_cycle = grouped_by_unit[\"time_cycles\"].max()\n",
    "\n",
    "# Merge the max cycle back into the original frame\n",
    "result_frame = df.merge(max_cycle.to_frame(name='max_cycle'), left_on='unit_nr', right_index=True)\n",
    "\n",
    "# Calculate remaining useful life for each row\n",
    "remaining_useful_life = pd.Series([np.min([rul_limit, i]) for i in (result_frame[\"max_cycle\"] - result_frame[\"time_cycles\"]).tolist()])"
   ]
  },
  {
   "cell_type": "code",
   "execution_count": 4,
   "metadata": {},
   "outputs": [
    {
     "data": {
      "text/html": [
       "<div>\n",
       "<style scoped>\n",
       "    .dataframe tbody tr th:only-of-type {\n",
       "        vertical-align: middle;\n",
       "    }\n",
       "\n",
       "    .dataframe tbody tr th {\n",
       "        vertical-align: top;\n",
       "    }\n",
       "\n",
       "    .dataframe thead th {\n",
       "        text-align: right;\n",
       "    }\n",
       "</style>\n",
       "<table border=\"1\" class=\"dataframe\">\n",
       "  <thead>\n",
       "    <tr style=\"text-align: right;\">\n",
       "      <th></th>\n",
       "      <th>unit_nr</th>\n",
       "      <th>time_cycles</th>\n",
       "      <th>RUL</th>\n",
       "    </tr>\n",
       "  </thead>\n",
       "  <tbody>\n",
       "    <tr>\n",
       "      <th>0</th>\n",
       "      <td>1</td>\n",
       "      <td>1</td>\n",
       "      <td>130</td>\n",
       "    </tr>\n",
       "    <tr>\n",
       "      <th>1</th>\n",
       "      <td>1</td>\n",
       "      <td>2</td>\n",
       "      <td>130</td>\n",
       "    </tr>\n",
       "    <tr>\n",
       "      <th>2</th>\n",
       "      <td>1</td>\n",
       "      <td>3</td>\n",
       "      <td>130</td>\n",
       "    </tr>\n",
       "    <tr>\n",
       "      <th>3</th>\n",
       "      <td>1</td>\n",
       "      <td>4</td>\n",
       "      <td>130</td>\n",
       "    </tr>\n",
       "    <tr>\n",
       "      <th>4</th>\n",
       "      <td>1</td>\n",
       "      <td>5</td>\n",
       "      <td>130</td>\n",
       "    </tr>\n",
       "  </tbody>\n",
       "</table>\n",
       "</div>"
      ],
      "text/plain": [
       "   unit_nr  time_cycles  RUL\n",
       "0        1            1  130\n",
       "1        1            2  130\n",
       "2        1            3  130\n",
       "3        1            4  130\n",
       "4        1            5  130"
      ]
     },
     "execution_count": 4,
     "metadata": {},
     "output_type": "execute_result"
    }
   ],
   "source": [
    "def add_remaining_useful_life(df, rul_limit = 922337203):\n",
    "    # Get the total number of cycles for each unit\n",
    "    grouped_by_unit = df.groupby(by=\"unit_nr\")\n",
    "    max_cycle = grouped_by_unit[\"time_cycles\"].max()\n",
    "    \n",
    "    # Merge the max cycle back into the original frame\n",
    "    result_frame = df.merge(max_cycle.to_frame(name='max_cycle'), left_on='unit_nr', right_index=True)\n",
    "    \n",
    "    # Calculate remaining useful life for each row\n",
    "    remaining_useful_life = pd.Series([np.min([rul_limit, i]) for i in (result_frame[\"max_cycle\"] - result_frame[\"time_cycles\"]).tolist()])    \n",
    "    result_frame[\"RUL\"] = remaining_useful_life\n",
    "    \n",
    "    # drop max_cycle as it's no longer needed\n",
    "    result_frame = result_frame.drop(\"max_cycle\", axis=1)\n",
    "    return result_frame\n",
    "\n",
    "train = add_remaining_useful_life(train, 130)\n",
    "train[index_names+['RUL']].head()"
   ]
  },
  {
   "cell_type": "markdown",
   "metadata": {},
   "source": [
    "## K_means op_clustering"
   ]
  },
  {
   "cell_type": "raw",
   "metadata": {},
   "source": [
    "from sklearn.cluster import KMeans\n",
    "import numpy as np\n",
    "n_cluster = 6\n",
    "op_labels = ['setting_1', 'setting_2', 'setting_3']\n",
    "train[op_labels]\n",
    "kmeans = KMeans(n_clusters=n_cluster, random_state=42).fit(train[op_labels])\n",
    "# kmeans.labels_\n",
    "# kmeans.predict([[0, 0], [12, 3]])\n",
    "# kmeans.cluster_centers_"
   ]
  },
  {
   "cell_type": "raw",
   "metadata": {},
   "source": [
    "import pickle\n",
    "pickle.dump(kmeans, open(\"kmeans_op.pkl\", \"wb\"))"
   ]
  },
  {
   "cell_type": "code",
   "execution_count": 37,
   "metadata": {},
   "outputs": [
    {
     "data": {
      "text/plain": [
       "<mpl_toolkits.mplot3d.art3d.Path3DCollection at 0x1aa9daa1988>"
      ]
     },
     "execution_count": 37,
     "metadata": {},
     "output_type": "execute_result"
    },
    {
     "data": {
      "image/png": "[encoded data removed]",
      "text/plain": [
       "<Figure size 504x504 with 1 Axes>"
      ]
     },
     "metadata": {},
     "output_type": "display_data"
    }
   ],
   "source": [
    "plt.figure('K-Means', figsize=(7,7))\n",
    "ax = plt.axes(projection = '3d')\n",
    "ax.scatter(kmeans.cluster_centers_[:,2],kmeans.cluster_centers_[:,0],kmeans.cluster_centers_[:,1], cmap='Set2')\n"
   ]
  },
  {
   "cell_type": "markdown",
   "metadata": {},
   "source": [
    "## Cluster-wise Standardization"
   ]
  },
  {
   "cell_type": "code",
   "execution_count": 5,
   "metadata": {},
   "outputs": [],
   "source": [
    "from sklearn.preprocessing import StandardScaler\n",
    "def create_clusters(df):\n",
    "    model = pickle.load(open(\"kmeans_op.pkl\", \"rb\"))\n",
    "    preds = model.predict(df[['setting_1', 'setting_2', 'setting_3']])\n",
    "    tmp = df.copy()\n",
    "    tmp[\"OP\"] = pd.Series(preds)\n",
    "    tmp = tmp.drop(['setting_1', 'setting_2', 'setting_3'], axis=1)\n",
    "    return tmp\n",
    "\n",
    "def create_scalers(df): #should probably just give train split here\n",
    "    scaling_columns = ['s_1', 's_2', 's_3', 's_4', 's_5', 's_6',\n",
    "       's_7', 's_8', 's_9', 's_10', 's_11', 's_12', 's_13', 's_14', 's_15',\n",
    "       's_16', 's_17', 's_18', 's_19', 's_20', 's_21']\n",
    "    scalers = []\n",
    "    for i in range(6):\n",
    "        scaler = StandardScaler()\n",
    "        scaler.fit(df[df[\"OP\"] == i][scaling_columns])\n",
    "        scalers.append(scaler)\n",
    "    \n",
    "    return scalers"
   ]
  },
  {
   "cell_type": "code",
   "execution_count": 6,
   "metadata": {
    "scrolled": false
   },
   "outputs": [
    {
     "name": "stdout",
     "output_type": "stream",
     "text": [
      "train_split_engines [  1   2   3   4   5   6   7   8   9  11  12  13  14  15  18  20  21  22\n",
      "  23  24  25  27  28  29  30  32  33  34  35  36  37  38  39  40  41  42\n",
      "  43  44  45  47  48  49  50  51  52  53  54  55  57  58  59  60  61  62\n",
      "  63  64  65  66  69  70  71  72  73  75  77  78  79  81  82  83  84  85\n",
      "  86  87  88  89  90  91  92  93  95  96  98  99 100 102 103 104 105 106\n",
      " 107 108 111 112 113 115 116 117 118 121 122 123 124 125 126 127 128 129\n",
      " 130 131 132 133 134 135 136 138 139 142 143 145 146 147 149 150 151 152\n",
      " 154 157 158 159 160 161 162 164 165 166 167 168 169 170 172 173 175 176\n",
      " 180 181 182 183 184 185 187 188 189 191 192 194 196 197 198 199 200 201\n",
      " 202 203 205 206 207 209 210 211 213 215 217 218] \n",
      "\n",
      "validate_split_engines [ 10  16  17  19  26  31  46  56  67  68  74  76  80  94  97 101 109 110\n",
      " 114 119 120 137 140 141 144 148 153 155 156 163 171 174 177 178 179 186\n",
      " 190 193 195 204 208 212 214 216] \n",
      "\n"
     ]
    }
   ],
   "source": [
    "from sklearn.model_selection import GroupShuffleSplit\n",
    "# eventhough we set np and tf seeds, gss requires its own seed\n",
    "gss = GroupShuffleSplit(n_splits=1, train_size=0.80, random_state=42)  \n",
    "\n",
    "def train_val_group_split(X, gss, groups, print_groups=True):\n",
    "    y = X.pop('RUL')\n",
    "    for idx_train, idx_val in gss.split(X, y, groups=groups):\n",
    "        if print_groups:\n",
    "            print('train_split_engines', train.iloc[idx_train]['unit_nr'].unique(), '\\n')\n",
    "            print('validate_split_engines', train.iloc[idx_val]['unit_nr'].unique(), '\\n')\n",
    "\n",
    "        X_train_split = X.iloc[idx_train].copy()\n",
    "        y_train_split = y.iloc[idx_train].copy()\n",
    "        X_val_split = X.iloc[idx_val].copy()\n",
    "        y_val_split = y.iloc[idx_val].copy()\n",
    "    return X_train_split, y_train_split, X_val_split, y_val_split\n",
    "train = create_clusters(train)\n",
    "split_result = train_val_group_split(train, gss, train['unit_nr'])\n",
    "X_train, y_train, X_val, y_val = split_result"
   ]
  },
  {
   "cell_type": "code",
   "execution_count": 7,
   "metadata": {},
   "outputs": [],
   "source": [
    "scalers = create_scalers(X_train)"
   ]
  },
  {
   "cell_type": "code",
   "execution_count": 8,
   "metadata": {},
   "outputs": [],
   "source": [
    "def scale(df, scalers):\n",
    "    scaling_columns = ['s_1', 's_2', 's_3', 's_4', 's_5', 's_6',\n",
    "       's_7', 's_8', 's_9', 's_10', 's_11', 's_12', 's_13', 's_14', 's_15',\n",
    "       's_16', 's_17', 's_18', 's_19', 's_20', 's_21']\n",
    "    new_x = []\n",
    "    for i in range(len(scalers)):\n",
    "        k = scalers[i].transform(df[df['OP'] == i][scaling_columns])\n",
    "        new_x.extend(k)\n",
    "        \n",
    "    return new_x"
   ]
  },
  {
   "cell_type": "code",
   "execution_count": 9,
   "metadata": {},
   "outputs": [],
   "source": [
    "X_train = scale(X_train, scalers)\n",
    "X_val = scale(X_val, scalers)"
   ]
  },
  {
   "cell_type": "code",
   "execution_count": 10,
   "metadata": {},
   "outputs": [],
   "source": [
    "scaling_columns = ['s_1', 's_2', 's_3', 's_4', 's_5', 's_6',\n",
    "       's_7', 's_8', 's_9', 's_10', 's_11', 's_12', 's_13', 's_14', 's_15',\n",
    "       's_16', 's_17', 's_18', 's_19', 's_20', 's_21']\n",
    "X_train = pd.DataFrame(X_train, columns = scaling_columns)\n",
    "X_val = pd.DataFrame(X_val, columns = scaling_columns)"
   ]
  },
  {
   "cell_type": "markdown",
   "metadata": {},
   "source": [
    "## XGBoost Regression"
   ]
  },
  {
   "cell_type": "code",
   "execution_count": 11,
   "metadata": {},
   "outputs": [],
   "source": [
    "# first create an evaluate function\n",
    "def evaluate(y_true, y_hat, label='Test'):\n",
    "    mse = mean_squared_error(y_true, y_hat)\n",
    "    rmse = np.sqrt(mse)\n",
    "    variance = r2_score(y_true, y_hat)\n",
    "    print('{} set RMSE:{}, R2:{}'.format(label, rmse, variance))"
   ]
  },
  {
   "cell_type": "raw",
   "metadata": {},
   "source": [
    "# drop unwanted columns and split target variable from training set\n",
    "# drop_sensors = ['s_1','s_5','s_6','s_10','s_16','s_18','s_19']\n",
    "drop_labels = index_names\n",
    "\n",
    "train_s, val_s = split_engines(train)\n",
    "X_train = train_s.drop(drop_labels, axis=1)\n",
    "y_train = X_train.pop('RUL')\n",
    "\n",
    "X_val = val_s.drop(drop_labels, axis=1)\n",
    "y_val = X_val.pop('RUL')\n",
    "\n",
    "# Since the true RUL values for the test set are only provided for the last time cycle of each enginge, \n",
    "# the test set is subsetted to represent the same\n",
    "X_test = test.groupby('unit_nr').last().reset_index().drop(drop_labels, axis=1)\n",
    "\n",
    "\n",
    "print(X_train.columns)  # check remaining columns"
   ]
  },
  {
   "cell_type": "code",
   "execution_count": 33,
   "metadata": {},
   "outputs": [
    {
     "data": {
      "text/plain": [
       "XGBRegressor(base_score=0.5, booster='gbtree', colsample_bylevel=1,\n",
       "             colsample_bynode=1, colsample_bytree=0.8, eta=0.1, gamma=0,\n",
       "             gpu_id=0, importance_type='gain', interaction_constraints='',\n",
       "             learning_rate=0.100000001, max_delta_step=0, max_depth=7,\n",
       "             min_child_weight=1, missing=nan, monotone_constraints='()',\n",
       "             n_estimators=1000, n_jobs=4, num_parallel_tree=1,\n",
       "             predictor='gpu_predictor', random_state=0, reg_alpha=0,\n",
       "             reg_lambda=1, scale_pos_weight=1, subsample=0.7,\n",
       "             tree_method='gpu_hist', validate_parameters=1, verbosity=1)"
      ]
     },
     "execution_count": 33,
     "metadata": {},
     "output_type": "execute_result"
    }
   ],
   "source": [
    "# create an xgboost regression model\n",
    "xgb_reg = xgboost.XGBRegressor(tree_method = \"gpu_hist\", predictor = \"gpu_predictor\", n_jobs = 4, verbosity = 1, n_estimators=1000, max_depth=7, eta=0.1, subsample=0.7, colsample_bytree=0.8)\n",
    "# evaluate model\n",
    "xgb_reg.fit(X_train, y_train)"
   ]
  },
  {
   "cell_type": "code",
   "execution_count": 34,
   "metadata": {},
   "outputs": [
    {
     "name": "stdout",
     "output_type": "stream",
     "text": [
      "Train set RMSE:13.833670292098354, R2:0.9593856087584057\n",
      "Test set RMSE:43.76096242409655, R2:0.5802283724237074\n"
     ]
    }
   ],
   "source": [
    "y_hat = xgb_reg.predict(X_val)\n",
    "y_train_pred = xgb_reg.predict(X_train)\n",
    "evaluate(y_train, y_train_pred, label = \"Train\")\n",
    "evaluate(y_val, y_hat)"
   ]
  },
  {
   "cell_type": "markdown",
   "metadata": {},
   "source": [
    "# Fine tuning"
   ]
  },
  {
   "cell_type": "code",
   "execution_count": 13,
   "metadata": {},
   "outputs": [
    {
     "name": "stdout",
     "output_type": "stream",
     "text": [
      "Fitting 5 folds for each of 200 candidates, totalling 1000 fits\n"
     ]
    },
    {
     "name": "stderr",
     "output_type": "stream",
     "text": [
      "[Parallel(n_jobs=6)]: Using backend LokyBackend with 6 concurrent workers.\n",
      "[Parallel(n_jobs=6)]: Done  20 tasks      | elapsed:  1.2min\n",
      "[Parallel(n_jobs=6)]: Done 116 tasks      | elapsed: 22.8min\n",
      "[Parallel(n_jobs=6)]: Done 276 tasks      | elapsed: 44.3min\n",
      "[Parallel(n_jobs=6)]: Done 500 tasks      | elapsed: 75.4min\n",
      "[Parallel(n_jobs=6)]: Done 788 tasks      | elapsed: 111.9min\n",
      "[Parallel(n_jobs=6)]: Done 1000 out of 1000 | elapsed: 133.9min finished\n"
     ]
    }
   ],
   "source": [
    "xgb_clf = xgboost.XGBRegressor(tree_method = \"gpu_hist\", predictor = \"gpu_predictor\", verbosity = 1,\n",
    "                           objective = \"reg:squarederror\")\n",
    "# Create parameter grid\n",
    "parameters = {\"learning_rate\": [0.1, 0.01, 0.001],\n",
    "               \"gamma\" : [0.01, 0.1, 0.3, 0.5, 1, 1.5, 2],\n",
    "               \"max_depth\": [2, 4, 7, 10],\n",
    "               \"colsample_bytree\": [0.3, 0.6, 0.8, 1.0],\n",
    "               \"subsample\": [0.2, 0.4, 0.5, 0.6, 0.7],\n",
    "               \"reg_alpha\": [0, 0.5, 1],\n",
    "               \"reg_lambda\": [1, 1.5, 2, 3, 4.5],\n",
    "               \"min_child_weight\": [1, 3, 5, 7],\n",
    "               \"n_estimators\": [100, 250, 500, 1000]}\n",
    "\n",
    "# Create RandomizedSearchCV Object\n",
    "xgb_rscv = RandomizedSearchCV(xgb_clf, param_distributions = parameters, scoring = \"neg_mean_squared_error\",\n",
    "                             cv = 5, verbose = 3, random_state = 42, n_jobs = 6, n_iter=200)\n",
    "\n",
    "# Fit the model\n",
    "model_xgboost = xgb_rscv.fit(X_train, y_train)"
   ]
  },
  {
   "cell_type": "code",
   "execution_count": 14,
   "metadata": {},
   "outputs": [
    {
     "data": {
      "text/plain": [
       "-1650.5777052147805"
      ]
     },
     "execution_count": 14,
     "metadata": {},
     "output_type": "execute_result"
    }
   ],
   "source": [
    "xgb_rscv.best_score_"
   ]
  },
  {
   "cell_type": "code",
   "execution_count": 15,
   "metadata": {},
   "outputs": [
    {
     "name": "stdout",
     "output_type": "stream",
     "text": [
      "Learning Rate:  0.01\n",
      "Gamma:  0.1\n",
      "Max Depth:  10\n",
      "Subsample:  0.2\n",
      "Max Features at Split:  0.6\n",
      "Alpha:  0.5\n",
      "Lamda:  1\n",
      "Minimum Sum of the Instance Weight Hessian to Make a Child:  5\n",
      "Number of Trees:  500\n"
     ]
    }
   ],
   "source": [
    "# Model best estimators\n",
    "lr = model_xgboost.best_estimator_.get_params()[\"learning_rate\"]\n",
    "gam = model_xgboost.best_estimator_.get_params()[\"gamma\"]\n",
    "m_dep = model_xgboost.best_estimator_.get_params()[\"max_depth\"]\n",
    "sub_smp = model_xgboost.best_estimator_.get_params()[\"subsample\"]\n",
    "col_smp = model_xgboost.best_estimator_.get_params()[\"colsample_bytree\"]\n",
    "alp = model_xgboost.best_estimator_.get_params()[\"reg_alpha\"]\n",
    "lamb = model_xgboost.best_estimator_.get_params()[\"reg_lambda\"]\n",
    "m_chld_w = model_xgboost.best_estimator_.get_params()[\"min_child_weight\"]\n",
    "n_est = model_xgboost.best_estimator_.get_params()[\"n_estimators\"]\n",
    "print(\"Learning Rate: \", lr)\n",
    "print(\"Gamma: \", gam)\n",
    "print(\"Max Depth: \", m_dep)\n",
    "print(\"Subsample: \", sub_smp)\n",
    "print(\"Max Features at Split: \", col_smp)\n",
    "print(\"Alpha: \", alp)\n",
    "print(\"Lamda: \", lamb)\n",
    "print(\"Minimum Sum of the Instance Weight Hessian to Make a Child: \", m_chld_w)\n",
    "print(\"Number of Trees: \", n_est)"
   ]
  },
  {
   "cell_type": "markdown",
   "metadata": {},
   "source": [
    "## Now we train with new params"
   ]
  },
  {
   "cell_type": "code",
   "execution_count": 12,
   "metadata": {
    "scrolled": true
   },
   "outputs": [
    {
     "data": {
      "text/plain": [
       "XGBRegressor(base_score=0.5, booster='gbtree', colsample_bylevel=1,\n",
       "             colsample_bynode=1, colsample_bytree=0.6, gamma=0.1, gpu_id=0,\n",
       "             importance_type='gain', interaction_constraints='',\n",
       "             learning_rate=0.01, max_delta_step=0, max_depth=10,\n",
       "             min_child_weight=5, missing=nan, monotone_constraints='()',\n",
       "             n_estimators=500, n_jobs=12, num_parallel_tree=1,\n",
       "             predictor='gpu_predictor', random_state=0, reg_alpha=0.5,\n",
       "             reg_lambda=1, scale_pos_weight=1, subsample=0.2,\n",
       "             tree_method='gpu_hist', validate_parameters=1, verbosity=2)"
      ]
     },
     "execution_count": 12,
     "metadata": {},
     "output_type": "execute_result"
    }
   ],
   "source": [
    "# create an xgboost regression model\n",
    "xgb_reg = xgboost.XGBRegressor(tree_method = \"gpu_hist\", predictor = \"gpu_predictor\", verbosity = 2, \n",
    "                               n_estimators=500, max_depth=10, subsample=0.2, colsample_bytree=0.6,\n",
    "                               learning_rate = 0.01, reg_alpha = 0.5, reg_lambda = 1, min_child_weight = 5, gamma = 0.1)\n",
    "# evaluate model\n",
    "xgb_reg.fit(X_train, y_train)"
   ]
  },
  {
   "cell_type": "code",
   "execution_count": 13,
   "metadata": {
    "scrolled": true
   },
   "outputs": [
    {
     "name": "stdout",
     "output_type": "stream",
     "text": [
      "Train set RMSE:38.874087495190636, R2:0.1980092924482959\n",
      "Test set RMSE:43.708669446746875, R2:-0.01844862754447041\n"
     ]
    }
   ],
   "source": [
    "y_hat = xgb_reg.predict(X_val)\n",
    "y_train_pred = xgb_reg.predict(X_train)\n",
    "evaluate(y_train, y_train_pred, label = \"Train\")\n",
    "evaluate(y_val, y_hat)"
   ]
  },
  {
   "cell_type": "markdown",
   "metadata": {},
   "source": [
    "Got better poj"
   ]
  },
  {
   "cell_type": "markdown",
   "metadata": {},
   "source": [
    "# Make submission"
   ]
  },
  {
   "cell_type": "code",
   "execution_count": 14,
   "metadata": {},
   "outputs": [],
   "source": [
    "def testpreproc(df, scalers):\n",
    "    df = create_clusters(df)\n",
    "    df = scale(df, scalers)\n",
    "    scaling_columns = ['s_1', 's_2', 's_3', 's_4', 's_5', 's_6',\n",
    "       's_7', 's_8', 's_9', 's_10', 's_11', 's_12', 's_13', 's_14', 's_15',\n",
    "       's_16', 's_17', 's_18', 's_19', 's_20', 's_21']\n",
    "    df = pd.DataFrame(df, columns = scaling_columns)\n",
    "    return df"
   ]
  },
  {
   "cell_type": "code",
   "execution_count": 15,
   "metadata": {},
   "outputs": [],
   "source": [
    "pred = xgb_reg.predict(testpreproc(test, scalers))"
   ]
  },
  {
   "cell_type": "code",
   "execution_count": 16,
   "metadata": {},
   "outputs": [],
   "source": [
    "with open(\"sub.txt\", 'w') as output:\n",
    "    for row in pred:\n",
    "        output.write(str(row) + '\\n')"
   ]
  },
  {
   "cell_type": "raw",
   "metadata": {},
   "source": [
    "Site score for this solution -> 62175.942306"
   ]
  }
 ],
 "metadata": {
  "kernelspec": {
   "display_name": "Tensorflow-GPU_Enabled",
   "language": "python",
   "name": "tensorflow-gpu_enabled"
  },
  "language_info": {
   "codemirror_mode": {
    "name": "ipython",
    "version": 3
   },
   "file_extension": ".py",
   "mimetype": "text/x-python",
   "name": "python",
   "nbconvert_exporter": "python",
   "pygments_lexer": "ipython3",
   "version": "3.7.9"
  }
 },
 "nbformat": 4,
 "nbformat_minor": 2
}
